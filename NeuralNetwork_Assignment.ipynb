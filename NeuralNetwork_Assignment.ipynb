{
  "nbformat": 4,
  "nbformat_minor": 0,
  "metadata": {
    "colab": {
      "name": "NeuralNetwork-Assignment.ipynb",
      "provenance": [],
      "authorship_tag": "ABX9TyMsUDRKnPiP0OJ9HFbif3XL",
      "include_colab_link": true
    },
    "kernelspec": {
      "name": "python3",
      "display_name": "Python 3"
    },
    "language_info": {
      "name": "python"
    }
  },
  "cells": [
    {
      "cell_type": "markdown",
      "metadata": {
        "id": "view-in-github",
        "colab_type": "text"
      },
      "source": [
        "<a href=\"https://colab.research.google.com/github/SHAIMA-HAQUE/Neural-Network/blob/main/NeuralNetwork_Assignment.ipynb\" target=\"_parent\"><img src=\"https://colab.research.google.com/assets/colab-badge.svg\" alt=\"Open In Colab\"/></a>"
      ]
    },
    {
      "cell_type": "code",
      "metadata": {
        "id": "ZNAczZpxvFpo"
      },
      "source": [
        "#importing lib\n",
        "import tensorflow as tf\n",
        "import numpy as np\n",
        "import pandas as pd\n",
        "from keras.models import Sequential\n",
        "from keras.layers import Dense\n",
        "from tensorflow import keras\n",
        "import matplotlib.pyplot as plt"
      ],
      "execution_count": null,
      "outputs": []
    },
    {
      "cell_type": "code",
      "metadata": {
        "colab": {
          "base_uri": "https://localhost:8080/"
        },
        "id": "CpA7sL3q1hKk",
        "outputId": "a4920d55-3738-4446-f663-36eb85f2ae5b"
      },
      "source": [
        "#import dataset\n",
        "dataset = pd.read_csv('Summary of Weather - Min and Max temperature.csv')\n",
        "print(dataset)\n"
      ],
      "execution_count": null,
      "outputs": [
        {
          "output_type": "stream",
          "text": [
            "          MaxTemp    MinTemp\n",
            "0       25.555556  22.222222\n",
            "1       28.888889  21.666667\n",
            "2       26.111111  22.222222\n",
            "3       26.666667  22.222222\n",
            "4       26.666667  21.666667\n",
            "...           ...        ...\n",
            "119035  28.333333  18.333333\n",
            "119036  29.444444  18.333333\n",
            "119037  28.333333  18.333333\n",
            "119038  28.333333  18.333333\n",
            "119039  29.444444  17.222222\n",
            "\n",
            "[119040 rows x 2 columns]\n"
          ],
          "name": "stdout"
        }
      ]
    },
    {
      "cell_type": "code",
      "metadata": {
        "colab": {
          "base_uri": "https://localhost:8080/"
        },
        "id": "Rr7N0gAo13mA",
        "outputId": "7684cbfa-f056-4e64-9004-f44d0bc21e5a"
      },
      "source": [
        "X = dataset.iloc[:,:-1].values\n",
        "Y = dataset.iloc[:,-1].values\n",
        "\n",
        "print(X)\n",
        "print(Y)"
      ],
      "execution_count": null,
      "outputs": [
        {
          "output_type": "stream",
          "text": [
            "[[25.55555556]\n",
            " [28.88888889]\n",
            " [26.11111111]\n",
            " ...\n",
            " [28.33333333]\n",
            " [28.33333333]\n",
            " [29.44444444]]\n",
            "[22.22222222 21.66666667 22.22222222 ... 18.33333333 18.33333333\n",
            " 17.22222222]\n"
          ],
          "name": "stdout"
        }
      ]
    },
    {
      "cell_type": "code",
      "metadata": {
        "colab": {
          "base_uri": "https://localhost:8080/"
        },
        "id": "BlNF3gLr2w0E",
        "outputId": "89ddc266-16f2-4553-f1c2-d7dfba4a443c"
      },
      "source": [
        "#defining a single layer; single neuron model\n",
        "model = tf.keras.Sequential([keras.layers.Dense(units=4, activation='relu', input_shape=[1])])\n",
        "model.add(Dense(1))\n",
        "print(model.summary())"
      ],
      "execution_count": null,
      "outputs": [
        {
          "output_type": "stream",
          "text": [
            "Model: \"sequential_3\"\n",
            "_________________________________________________________________\n",
            "Layer (type)                 Output Shape              Param #   \n",
            "=================================================================\n",
            "dense_3 (Dense)              (None, 4)                 8         \n",
            "_________________________________________________________________\n",
            "module_wrapper_3 (ModuleWrap (None, 1)                 5         \n",
            "=================================================================\n",
            "Total params: 13\n",
            "Trainable params: 13\n",
            "Non-trainable params: 0\n",
            "_________________________________________________________________\n",
            "None\n"
          ],
          "name": "stdout"
        }
      ]
    },
    {
      "cell_type": "code",
      "metadata": {
        "colab": {
          "base_uri": "https://localhost:8080/",
          "height": 312
        },
        "id": "2fP1Pp5R20Kk",
        "outputId": "f25cb99a-ef6d-4eb1-f8f9-d487b2e4907f"
      },
      "source": [
        "tf.keras.utils.plot_model(\n",
        "    model,\n",
        "    to_file=\"model.png\",\n",
        "    show_shapes=True,\n",
        "    show_dtype=False,\n",
        "    show_layer_names=True,\n",
        "    rankdir=\"TB\",\n",
        "    expand_nested=False,\n",
        "    dpi=96,\n",
        ")"
      ],
      "execution_count": null,
      "outputs": [
        {
          "output_type": "execute_result",
          "data": {
            "image/png": "[encoded data removed]",
            "text/plain": [
              "<IPython.core.display.Image object>"
            ]
          },
          "metadata": {
            "tags": []
          },
          "execution_count": 32
        }
      ]
    },
    {
      "cell_type": "code",
      "metadata": {
        "id": "Q3Av7IHA24F9"
      },
      "source": [
        "#defining the model evaluation for backpropogation\n",
        "model.compile(optimizer='adam', loss='mean_squared_error')"
      ],
      "execution_count": 36,
      "outputs": []
    },
    {
      "cell_type": "code",
      "metadata": {
        "colab": {
          "base_uri": "https://localhost:8080/"
        },
        "id": "4PlVp7xM2_B1",
        "outputId": "1bf697e9-8f05-41b5-f93e-cdfc98812907"
      },
      "source": [
        "#training the model with iterations (No. of front & back propogation)\n",
        "run_model = model.fit(X, Y,batch_size = 468, epochs=100)"
      ],
      "execution_count": 37,
      "outputs": [
        {
          "output_type": "stream",
          "text": [
            "Epoch 1/100\n",
            "255/255 [==============================] - 1s 1ms/step - loss: 829.5631\n",
            "Epoch 2/100\n",
            "255/255 [==============================] - 0s 1ms/step - loss: 531.3301\n",
            "Epoch 3/100\n",
            "255/255 [==============================] - 0s 1ms/step - loss: 396.0565\n",
            "Epoch 4/100\n",
            "255/255 [==============================] - 0s 1ms/step - loss: 303.6422\n",
            "Epoch 5/100\n",
            "255/255 [==============================] - 0s 1ms/step - loss: 195.4024\n",
            "Epoch 6/100\n",
            "255/255 [==============================] - 0s 1ms/step - loss: 82.2334\n",
            "Epoch 7/100\n",
            "255/255 [==============================] - 0s 1ms/step - loss: 27.9170\n",
            "Epoch 8/100\n",
            "255/255 [==============================] - 0s 1ms/step - loss: 18.6399\n",
            "Epoch 9/100\n",
            "255/255 [==============================] - 0s 1ms/step - loss: 18.0037\n",
            "Epoch 10/100\n",
            "255/255 [==============================] - 0s 1ms/step - loss: 17.9185\n",
            "Epoch 11/100\n",
            "255/255 [==============================] - 0s 1ms/step - loss: 17.8427\n",
            "Epoch 12/100\n",
            "255/255 [==============================] - 0s 1ms/step - loss: 17.7602\n",
            "Epoch 13/100\n",
            "255/255 [==============================] - 0s 1ms/step - loss: 17.6748\n",
            "Epoch 14/100\n",
            "255/255 [==============================] - 0s 1ms/step - loss: 17.5865\n",
            "Epoch 15/100\n",
            "255/255 [==============================] - 0s 1ms/step - loss: 17.4892\n",
            "Epoch 16/100\n",
            "255/255 [==============================] - 0s 1ms/step - loss: 17.3858\n",
            "Epoch 17/100\n",
            "255/255 [==============================] - 0s 1ms/step - loss: 17.2674\n",
            "Epoch 18/100\n",
            "255/255 [==============================] - 0s 1ms/step - loss: 17.1345\n",
            "Epoch 19/100\n",
            "255/255 [==============================] - 0s 1ms/step - loss: 16.9747\n",
            "Epoch 20/100\n",
            "255/255 [==============================] - 0s 1ms/step - loss: 16.7355\n",
            "Epoch 21/100\n",
            "255/255 [==============================] - 0s 1ms/step - loss: 15.5613\n",
            "Epoch 22/100\n",
            "255/255 [==============================] - 0s 1ms/step - loss: 14.9229\n",
            "Epoch 23/100\n",
            "255/255 [==============================] - 0s 1ms/step - loss: 14.9080\n",
            "Epoch 24/100\n",
            "255/255 [==============================] - 0s 1ms/step - loss: 14.8998\n",
            "Epoch 25/100\n",
            "255/255 [==============================] - 0s 1ms/step - loss: 14.8838\n",
            "Epoch 26/100\n",
            "255/255 [==============================] - 0s 1ms/step - loss: 14.8714\n",
            "Epoch 27/100\n",
            "255/255 [==============================] - 0s 1ms/step - loss: 14.8566\n",
            "Epoch 28/100\n",
            "255/255 [==============================] - 0s 1ms/step - loss: 14.8416\n",
            "Epoch 29/100\n",
            "255/255 [==============================] - 0s 1ms/step - loss: 14.8247\n",
            "Epoch 30/100\n",
            "255/255 [==============================] - 0s 1ms/step - loss: 14.8030\n",
            "Epoch 31/100\n",
            "255/255 [==============================] - 0s 1ms/step - loss: 14.7808\n",
            "Epoch 32/100\n",
            "255/255 [==============================] - 0s 1ms/step - loss: 14.7595\n",
            "Epoch 33/100\n",
            "255/255 [==============================] - 0s 1ms/step - loss: 14.7352\n",
            "Epoch 34/100\n",
            "255/255 [==============================] - 0s 1ms/step - loss: 14.7116\n",
            "Epoch 35/100\n",
            "255/255 [==============================] - 0s 1ms/step - loss: 14.6825\n",
            "Epoch 36/100\n",
            "255/255 [==============================] - 0s 1ms/step - loss: 14.6594\n",
            "Epoch 37/100\n",
            "255/255 [==============================] - 0s 1ms/step - loss: 14.6311\n",
            "Epoch 38/100\n",
            "255/255 [==============================] - 0s 1ms/step - loss: 14.6015\n",
            "Epoch 39/100\n",
            "255/255 [==============================] - 0s 1ms/step - loss: 14.5758\n",
            "Epoch 40/100\n",
            "255/255 [==============================] - 0s 1ms/step - loss: 14.5446\n",
            "Epoch 41/100\n",
            "255/255 [==============================] - 0s 1ms/step - loss: 14.5157\n",
            "Epoch 42/100\n",
            "255/255 [==============================] - 0s 1ms/step - loss: 14.4885\n",
            "Epoch 43/100\n",
            "255/255 [==============================] - 0s 1ms/step - loss: 14.4703\n",
            "Epoch 44/100\n",
            "255/255 [==============================] - 0s 1ms/step - loss: 14.4341\n",
            "Epoch 45/100\n",
            "255/255 [==============================] - 0s 1ms/step - loss: 14.4060\n",
            "Epoch 46/100\n",
            "255/255 [==============================] - 0s 1ms/step - loss: 14.3792\n",
            "Epoch 47/100\n",
            "255/255 [==============================] - 0s 1ms/step - loss: 14.3528\n",
            "Epoch 48/100\n",
            "255/255 [==============================] - 0s 1ms/step - loss: 14.3290\n",
            "Epoch 49/100\n",
            "255/255 [==============================] - 0s 1ms/step - loss: 14.3039\n",
            "Epoch 50/100\n",
            "255/255 [==============================] - 0s 1ms/step - loss: 14.2804\n",
            "Epoch 51/100\n",
            "255/255 [==============================] - 0s 1ms/step - loss: 14.2566\n",
            "Epoch 52/100\n",
            "255/255 [==============================] - 0s 1ms/step - loss: 14.2351\n",
            "Epoch 53/100\n",
            "255/255 [==============================] - 0s 1ms/step - loss: 14.2172\n",
            "Epoch 54/100\n",
            "255/255 [==============================] - 0s 1ms/step - loss: 14.1901\n",
            "Epoch 55/100\n",
            "255/255 [==============================] - 0s 1ms/step - loss: 14.1722\n",
            "Epoch 56/100\n",
            "255/255 [==============================] - 0s 1ms/step - loss: 14.1536\n",
            "Epoch 57/100\n",
            "255/255 [==============================] - 0s 1ms/step - loss: 14.1363\n",
            "Epoch 58/100\n",
            "255/255 [==============================] - 0s 1ms/step - loss: 14.1175\n",
            "Epoch 59/100\n",
            "255/255 [==============================] - 0s 1ms/step - loss: 14.0961\n",
            "Epoch 60/100\n",
            "255/255 [==============================] - 0s 1ms/step - loss: 14.0763\n",
            "Epoch 61/100\n",
            "255/255 [==============================] - 0s 1ms/step - loss: 14.0667\n",
            "Epoch 62/100\n",
            "255/255 [==============================] - 0s 1ms/step - loss: 14.0512\n",
            "Epoch 63/100\n",
            "255/255 [==============================] - 0s 1ms/step - loss: 14.0381\n",
            "Epoch 64/100\n",
            "255/255 [==============================] - 0s 1ms/step - loss: 14.0160\n",
            "Epoch 65/100\n",
            "255/255 [==============================] - 0s 1ms/step - loss: 14.0029\n",
            "Epoch 66/100\n",
            "255/255 [==============================] - 0s 1ms/step - loss: 13.9905\n",
            "Epoch 67/100\n",
            "255/255 [==============================] - 0s 1ms/step - loss: 13.9776\n",
            "Epoch 68/100\n",
            "255/255 [==============================] - 0s 1ms/step - loss: 13.9647\n",
            "Epoch 69/100\n",
            "255/255 [==============================] - 0s 1ms/step - loss: 13.9496\n",
            "Epoch 70/100\n",
            "255/255 [==============================] - 0s 1ms/step - loss: 13.9422\n",
            "Epoch 71/100\n",
            "255/255 [==============================] - 0s 1ms/step - loss: 13.9301\n",
            "Epoch 72/100\n",
            "255/255 [==============================] - 0s 1ms/step - loss: 13.9154\n",
            "Epoch 73/100\n",
            "255/255 [==============================] - 0s 1ms/step - loss: 13.9085\n",
            "Epoch 74/100\n",
            "255/255 [==============================] - 0s 1ms/step - loss: 13.8982\n",
            "Epoch 75/100\n",
            "255/255 [==============================] - 0s 1ms/step - loss: 13.8855\n",
            "Epoch 76/100\n",
            "255/255 [==============================] - 0s 1ms/step - loss: 13.8802\n",
            "Epoch 77/100\n",
            "255/255 [==============================] - 0s 1ms/step - loss: 13.8696\n",
            "Epoch 78/100\n",
            "255/255 [==============================] - 0s 1ms/step - loss: 13.8628\n",
            "Epoch 79/100\n",
            "255/255 [==============================] - 0s 1ms/step - loss: 13.8544\n",
            "Epoch 80/100\n",
            "255/255 [==============================] - 0s 1ms/step - loss: 13.8473\n",
            "Epoch 81/100\n",
            "255/255 [==============================] - 0s 1ms/step - loss: 13.8391\n",
            "Epoch 82/100\n",
            "255/255 [==============================] - 0s 1ms/step - loss: 13.8377\n",
            "Epoch 83/100\n",
            "255/255 [==============================] - 0s 1ms/step - loss: 13.8261\n",
            "Epoch 84/100\n",
            "255/255 [==============================] - 0s 1ms/step - loss: 13.8147\n",
            "Epoch 85/100\n",
            "255/255 [==============================] - 0s 1ms/step - loss: 13.8108\n",
            "Epoch 86/100\n",
            "255/255 [==============================] - 0s 1ms/step - loss: 13.8086\n",
            "Epoch 87/100\n",
            "255/255 [==============================] - 0s 1ms/step - loss: 13.8003\n",
            "Epoch 88/100\n",
            "255/255 [==============================] - 0s 1ms/step - loss: 13.7944\n",
            "Epoch 89/100\n",
            "255/255 [==============================] - 0s 1ms/step - loss: 13.7900\n",
            "Epoch 90/100\n",
            "255/255 [==============================] - 0s 1ms/step - loss: 13.7882\n",
            "Epoch 91/100\n",
            "255/255 [==============================] - 0s 1ms/step - loss: 13.7883\n",
            "Epoch 92/100\n",
            "255/255 [==============================] - 0s 1ms/step - loss: 13.7787\n",
            "Epoch 93/100\n",
            "255/255 [==============================] - 0s 1ms/step - loss: 13.7712\n",
            "Epoch 94/100\n",
            "255/255 [==============================] - 0s 1ms/step - loss: 13.7729\n",
            "Epoch 95/100\n",
            "255/255 [==============================] - 0s 1ms/step - loss: 13.7690\n",
            "Epoch 96/100\n",
            "255/255 [==============================] - 0s 1ms/step - loss: 13.7662\n",
            "Epoch 97/100\n",
            "255/255 [==============================] - 0s 1ms/step - loss: 13.7623\n",
            "Epoch 98/100\n",
            "255/255 [==============================] - 0s 1ms/step - loss: 13.7589\n",
            "Epoch 99/100\n",
            "255/255 [==============================] - 0s 1ms/step - loss: 13.7539\n",
            "Epoch 100/100\n",
            "255/255 [==============================] - 0s 1ms/step - loss: 13.7540\n"
          ],
          "name": "stdout"
        }
      ]
    },
    {
      "cell_type": "code",
      "metadata": {
        "colab": {
          "base_uri": "https://localhost:8080/"
        },
        "id": "1nN5u9Yj3C6Z",
        "outputId": "83a31c1b-2519-417a-ecfc-8b9e1c2d686f"
      },
      "source": [
        "print(model.predict([30.0]))\n"
      ],
      "execution_count": 38,
      "outputs": [
        {
          "output_type": "stream",
          "text": [
            "[[21.056343]]\n"
          ],
          "name": "stdout"
        }
      ]
    },
    {
      "cell_type": "code",
      "metadata": {
        "colab": {
          "base_uri": "https://localhost:8080/"
        },
        "id": "0xgN9qRn3GVU",
        "outputId": "4ef31bda-d100-43bc-e42f-664740449f9e"
      },
      "source": [
        "# list all data in history\n",
        "print(run_model.history.keys())"
      ],
      "execution_count": 39,
      "outputs": [
        {
          "output_type": "stream",
          "text": [
            "dict_keys(['loss'])\n"
          ],
          "name": "stdout"
        }
      ]
    },
    {
      "cell_type": "code",
      "metadata": {
        "colab": {
          "base_uri": "https://localhost:8080/",
          "height": 295
        },
        "id": "eNDUyc-n3JIj",
        "outputId": "da8a8ed8-54a1-4b59-e4a0-06f07cdc6644"
      },
      "source": [
        "# summarize history for accuracy\n",
        "plt.plot(run_model.history['loss'])\n",
        "plt.title('model loss')\n",
        "plt.ylabel('loss')\n",
        "plt.xlabel('epoch')\n",
        "plt.show()\n"
      ],
      "execution_count": 40,
      "outputs": [
        {
          "output_type": "display_data",
          "data": {
            "image/png": "[encoded data removed]",
            "text/plain": [
              "<Figure size 432x288 with 1 Axes>"
            ]
          },
          "metadata": {
            "tags": [],
            "needs_background": "light"
          }
        }
      ]
    }
  ]
}